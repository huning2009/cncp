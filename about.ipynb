{
 "cells": [
  {
   "cell_type": "markdown",
   "metadata": {},
   "source": [
    "# <span id=\"chap_about\"></span> About the author"
   ]
  },
  {
   "cell_type": "markdown",
   "metadata": {},
   "source": [
    "[Simon Dobson](http://www.simondobson.org) is Professor of Computer Science at the [University of St Andrews](http://www.st-andrews.ac.uk) in Scotland, UK. He currently works on sensor-driven and complex systems &ndash; and especially in the areas where they overlap, where one needs to use adaptive sensing regimes coupled with sophisticated analytic approaches to make sense of what's happening.\n",
    "\n",
    "Prior to coming to St Andrews in 2009 Simon held scientific and academic posts at the [STFC Rutherford Appleton Laboratory](http://www.ral.ac.uk), [Trinity College Dublin](http://www.tcd.ie), and [UCD Dublin](http://www.ucd.ie), and also had a short (and very entertaining) spell as the CEO of as start-up company. He holds a BSc from the [University of Newcastle upon Tyne](http://www.newcastle.ac.uk) and a DPhil from the [University of York](http://www.york.ac.uk), both in computer science, and is a Chartered Engineer and a Fellow of the British Computer Society.\n",
    "\n",
    "![Picture of Simon](sd.jpg)"
   ]
  }
 ],
 "metadata": {
  "kernelspec": {
   "display_name": "Python 3",
   "language": "python",
   "name": "python3"
  },
  "language_info": {
   "codemirror_mode": {
    "name": "ipython",
    "version": 3
   },
   "file_extension": ".py",
   "mimetype": "text/x-python",
   "name": "python",
   "nbconvert_exporter": "python",
   "pygments_lexer": "ipython3",
   "version": "3.7.5"
  }
 },
 "nbformat": 4,
 "nbformat_minor": 1
}
