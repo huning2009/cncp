{
 "cells": [
  {
   "cell_type": "markdown",
   "metadata": {},
   "source": [
    "# Complex networks, complex processes"
   ]
  },
  {
   "cell_type": "markdown",
   "metadata": {},
   "source": [
    "[Simon Dobson](mailto:simon.dobson@computer.org) <br>\n",
    "School of Computer Science<br>University of St Andrews, Scotland UK\n",
    "\n",
    "---"
   ]
  },
  {
   "cell_type": "markdown",
   "metadata": {},
   "source": [
    "[Preface](preface.ipynb)\n",
    "\n",
    "[Introduction](introduction.ipynb)\n",
    "\n",
    "\n",
    "## [Part 1: Getting started](part-getting-started.ipynb)\n",
    "\n",
    "**Getting started**\n",
    "\n",
    "* [Python for network science](getting-started.ipynb)\n",
    "\n",
    "**Basic ideas: networks**\n",
    "\n",
    "* [Networks](concepts-networks.ipynb)\n",
    "* [Networks, and geometry](concepts-geometry.ipynb)\n",
    "* [Simple networks](concepts-simple-network.ipynb)\n",
    "* [Degree](concepts-degree.ipynb)\n",
    "* [Neighbourhoods and paths](concepts-paths.ipynb)\n",
    "* [Connectivity, components, and cliques](concepts-components.ipynb)\n",
    "\n",
    "**Basic ideas: processes**\n",
    "\n",
    "* [Processes on networks](concepts-processes.ipynb)\n",
    "\n",
    "\n",
    "## [Part 2: Networks and processes](part-networks-processes.ipynb)\n",
    "\n",
    "**Random networks**\n",
    "\n",
    "* [ER networks](er-networks.ipynb) \n",
    "* [The mathematics of ER networks](er-networks-maths.ipynb)\n",
    "* [The components of an ER network](er-networks-components.ipynb)\n",
    "\n",
    "**Epidemic spreading processes**\n",
    "\n",
    "* [The biology of epidemics](epidemic-spreading.ipynb)\n",
    "* [Compartmented models of disease](epidemic-compartmented.ipynb)\n",
    "\n",
    "**Simulating epidemic processes**\n",
    "\n",
    "* [From continuous to networked compartmented models](epidemic-network.ipynb)\n",
    "* [Coding a compartmented model](software-epydemic.ipynb)\n",
    "* [Epidemic simulation](epidemic-simulation.ipynb)\n",
    "* [Synchronous simulation](epidemic-synchronous.ipynb)\n",
    "* [Gillespie simulation](epidemic-gillespie.ipynb)\n",
    "\n",
    "[Bibliography](bibliography.ipynb)\n",
    "\n",
    "[Acknowledgements](acknowledgements.ipynb)\n",
    "\n",
    "[About the author](about.ipynb)"
   ]
  },
  {
   "cell_type": "markdown",
   "metadata": {},
   "source": [
    "---\n",
    "\n",
    "<a rel=\"license\" href=\"http://creativecommons.org/licenses/by-sa/4.0/\"><img alt=\"Creative Commons License\" style=\"border-width:0\" src=\"https://i.creativecommons.org/l/by-sa/4.0/88x31.png\" /></a><br /><span xmlns:dct=\"http://purl.org/dc/terms/\" href=\"http://purl.org/dc/dcmitype/Text\" property=\"dct:title\" rel=\"dct:type\"><i>Complex networks, complex processes</i></span> by <a xmlns:cc=\"http://creativecommons.org/ns#\" href=\"http://www.simondobson.org\" property=\"cc:attributionName\" rel=\"cc:attributionURL\">Simon Dobson</a> is licensed under a <a rel=\"license\" href=\"http://creativecommons.org/licenses/by-sa/4.0/\">Creative Commons Attribution-ShareAlike 4.0 International License</a>.<br />Based on a work at <a xmlns:dct=\"http://purl.org/dc/terms/\" href=\"https://github.com/simoninireland/cncp\" rel=\"dct:source\">https://github.com/simoninireland/cncp</a>."
   ]
  }
 ],
 "metadata": {
  "kernelspec": {
   "display_name": "Python 3",
   "language": "python",
   "name": "python3"
  },
  "language_info": {
   "codemirror_mode": {
    "name": "ipython",
    "version": 3
   },
   "file_extension": ".py",
   "mimetype": "text/x-python",
   "name": "python",
   "nbconvert_exporter": "python",
   "pygments_lexer": "ipython3",
   "version": "3.7.5"
  }
 },
 "nbformat": 4,
 "nbformat_minor": 1
}
