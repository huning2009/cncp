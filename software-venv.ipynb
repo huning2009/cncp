{
 "cells": [
  {
   "cell_type": "markdown",
   "metadata": {},
   "source": [
    "# <span id=\"chap_software_venv\"></span> A standard virtual environment"
   ]
  },
  {
   "cell_type": "markdown",
   "metadata": {},
   "source": [
    "It's an unfortunate fact of life that the results of computational experiments are often subject to the vagaries of software versions. A calculation that works fine in one environment may fail in another &ndash; or, worse, may successfully calculate the wrong results. The reasons for this are many and varied, but are the bane of the existence of many computational scientists.\n",
    "\n",
    "We can avoid many (but not absolutely all) of the problems simply by taking care to perform calculations in a well-defined computational environment.\n",
    "\n",
    "TBC"
   ]
  },
  {
   "cell_type": "markdown",
   "metadata": {},
   "source": [
    "## <span id=\"sec_software_venv_creation\"></span> Creating and populating a virtual environment"
   ]
  },
  {
   "cell_type": "markdown",
   "metadata": {},
   "source": [
    "Reproducible virtual environments are built in three phases:\n",
    "\n",
    "1. *Create* and *activate* the environment\n",
    "1. *Populate* the environment with the desired packages\n",
    "1. *Freeze* the environmnent so it can be reproduced elsewhere\n",
    "\n",
    "All these tasks occur from the command line using the standard Python `virtualenv` and `pip` tools. In this section we'll look at how these go together."
   ]
  },
  {
   "cell_type": "markdown",
   "metadata": {},
   "source": [
    "### Installing the top-level tools"
   ]
  },
  {
   "cell_type": "markdown",
   "metadata": {},
   "source": [
    "We first need to install some basic tools into the global environment, which we then use to create the local virtual environments. So it's a good idea to install the latest versions:\n",
    "\n",
    "<pre>\n",
    "pip install --upgrade pip\n",
    "pip install --upgrade virtualenv\n",
    "</pre>"
   ]
  },
  {
   "cell_type": "markdown",
   "metadata": {},
   "source": [
    "### Creating the virtual environment"
   ]
  },
  {
   "cell_type": "markdown",
   "metadata": {},
   "source": [
    "To create the virtual environment, we use `virtualenv`. This creates a sub-directory in the current directory and populates it with a directory structure that provides places for packages, data, extensions, and other Python elements, as well as customised versions of the core tools themselves. To create a virtual environment called `venv` (why not?) we run the following command:\n",
    "\n",
    "<pre>\n",
    "cd somewhere\n",
    "virtualenv venv\n",
    "</pre>\n",
    "\n",
    "This will create a directory called `venv` that will contain the new virtual environment."
   ]
  },
  {
   "cell_type": "markdown",
   "metadata": {},
   "source": [
    "### Activating the virtual environment"
   ]
  },
  {
   "cell_type": "markdown",
   "metadata": {},
   "source": [
    "We then need to activate the environment, which means that any Python programs we run will run in it, and not in the global environment. Activation works for a single shell process, measning that different shells, running in different activated virtual environments, can see different packages, allowing the same machine to be running multiple Python codes that might have quite different requirements.\n",
    "\n",
    "To activate our newly-created virtual environment we simply change into its directory and run the activation script:\n",
    "\n",
    "<pre>\n",
    "cd venv\n",
    ". bin/activate\n",
    "</pre>\n",
    "\n",
    "Note the `.` at the start of the seconed line. This runs the activation script `bin/activate` in the current shell, activating the virtual environment in this shell and making it available for other processes we run."
   ]
  },
  {
   "cell_type": "markdown",
   "metadata": {},
   "source": [
    "### <span id=\"sec_software_venv_first\"></span>Populating the virtual environment for the first time"
   ]
  },
  {
   "cell_type": "markdown",
   "metadata": {},
   "source": [
    "Having activated the virtual environment, any Python interpreter we now run from this shell will run from this virtual environment with access to only the packages we install locally. This means we need to populate the virtual environment. Once populated, we'll [freeze it](#sec_software_venv_freeze) so we can [reproduce it](#sec_software_venv_reproduce) later.\n",
    "\n",
    "Pythoin packages are install using `pip`, and if we run this tool in the virtual environment as normal it will install packages as normal &ndash; but into the virtual environment rather than globally. For example, we can install `networkx` to allow us to perform simulations, and it will be downloaded and installed along with its dependencies:\n",
    "\n",
    "<pre>\n",
    "pip install networkx\n",
    "</pre>"
   ]
  },
  {
   "cell_type": "markdown",
   "metadata": {},
   "source": [
    "### <span id=\"sec_software_venv_freeze\"></span>Freezing the virtual environment"
   ]
  },
  {
   "cell_type": "markdown",
   "metadata": {},
   "source": [
    "Once we've populated the environment and run tests to make sure we're happy with it, we can create a description of it that will let us re-create the same set-up later. Once again, this is done by `pip`:\n",
    "\n",
    "<pre>\n",
    "pip freeze >requirements.txt\n",
    "</pre>\n",
    "\n",
    "The filename `requirements.txt` is conventional. If you look into it, you'll find a list of packages and their version numbers, capturing exactly what code exists in the virtual environment. "
   ]
  },
  {
   "cell_type": "markdown",
   "metadata": {},
   "source": [
    "### <span id=\"sec_software_venv_reproduce\"></span> Reproducing a virtual environment"
   ]
  },
  {
   "cell_type": "markdown",
   "metadata": {},
   "source": [
    "We can now reproduce the virtual environment. Open another shell, change to anmother directory, and create and activate a new, empty, virtual environment:\n",
    "\n",
    "<pre>\n",
    "cd elsewhere\n",
    "virtualenv venv2\n",
    "cd venv2\n",
    ". bin/activate\n",
    "</pre>\n",
    "\n",
    "Now we can now copy the requirements file we created in out first virtual environment to our new one:\n",
    "\n",
    "<pre>\n",
    "cp somewhere/venv/requirements.txt .\n",
    "</pre>\n",
    "\n",
    "The `pip` can be instructed to populate our new virtual environment based on our old one:\n",
    "\n",
    "<pre>\n",
    "pip install -r requirements.txt\n",
    "</pre>\n",
    "\n",
    "`pip` will then install the same package *and* the same versions of those packages into out new virtual environment, making it (in principle at least) identical to our other one.\n",
    "\n",
    "The important about this process is that it should work across machines, and across operating systems &ndash; and indeed across periods of time, even as software versions are updated in potentially incompatible ways. If we copy the `requirements.txt` file to a new machine, we can create a virtual environment that will run our code in the same configuration there as well. This reduces the scope for bugs introduced by using different versions of packages. "
   ]
  },
  {
   "cell_type": "markdown",
   "metadata": {},
   "source": [
    "## <span id=\"sec_software_venv_cncp_compute\"></span> The standard `cncp-compute` environment"
   ]
  },
  {
   "cell_type": "markdown",
   "metadata": {},
   "source": [
    "If you would like to reproduce the virtual environment used for this book, you can install the book's requirements file onto your own system directly from the `git` repository. This version has been tested to make sure it runs all the code in *Complex networks, complex processes*. It might not have all the packages you need for your project, but that's OK: you can use it as a starting point and then populate it with the extra packages you need. (Don't forget to then freeze and save your new environment so you can reproduce it later!)\n",
    "\n",
    "To get the requirements file, we simply pull it directly off the web using the `wget` tool, which fetches a file from a URL. Given this, the following script should now make perfect sense to you:\n",
    "\n",
    "<pre>\n",
    "virtualenv cncp-compute\n",
    "cd cncp-compute\n",
    ". bin/activate\n",
    "\n",
    "wget --no-cache -O - https://raw.githubusercontent.com/simoninireland/cncp/master/cncp-compute-requirements.txt >requirements.txt\n",
    "\n",
    "pip install -r requirements.txt\n",
    "</pre>\n"
   ]
  }
 ],
 "metadata": {
  "kernelspec": {
   "display_name": "Python 2",
   "language": "python",
   "name": "python2"
  },
  "language_info": {
   "codemirror_mode": {
    "name": "ipython",
    "version": 2
   },
   "file_extension": ".py",
   "mimetype": "text/x-python",
   "name": "python",
   "nbconvert_exporter": "python",
   "pygments_lexer": "ipython2",
   "version": "2.7.13"
  }
 },
 "nbformat": 4,
 "nbformat_minor": 0
}
