{
 "cells": [
  {
   "cell_type": "markdown",
   "metadata": {},
   "source": [
    "# Acknowledgements"
   ]
  },
  {
   "cell_type": "markdown",
   "metadata": {},
   "source": [
    "This book would not exist without the help of many people.\n",
    "\n",
    "First and foremost I should thank Saray Shai, my collaborator and former PhD student, who first got me interested in these ideas. What started out as a conversation about why wireless sensor networks weren't actually all that complex led off in unexpected directions that are still waiting to be explored. Before I met Saray, David Cellai was also instrumental in tantalising me with glimpses of what could be studied using network science, and how the marriage of mathematics and computing could work in practice. \n",
    "\n",
    "A number of people, including Danilo Pianini, Andrea Omicini, and Peter Fennell helped me understand the different approaches to process simulation in enough detail to be able to code them and (which is more difficult) write about them in a way that is (hopefully) accessible.\n",
    "\n",
    "The University of St Andrews has provided a welcome home and a fabulous opportunity to study ideas that take time to understand and develop. Colleagues too numerous to mention across disciplines ranging across Medicine, Physics, Biology, Earth Sciences, Mathematics, History, and Computer Science have all helped me see the potential that networks science really has, away from a narrow focus on its core mechanisms. "
   ]
  }
 ],
 "metadata": {
  "kernelspec": {
   "display_name": "Python 3",
   "language": "python",
   "name": "python3"
  },
  "language_info": {
   "codemirror_mode": {
    "name": "ipython",
    "version": 3
   },
   "file_extension": ".py",
   "mimetype": "text/x-python",
   "name": "python",
   "nbconvert_exporter": "python",
   "pygments_lexer": "ipython3",
   "version": "3.7.5"
  }
 },
 "nbformat": 4,
 "nbformat_minor": 1
}
